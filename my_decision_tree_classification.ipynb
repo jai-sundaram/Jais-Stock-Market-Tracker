{
  "nbformat": 4,
  "nbformat_minor": 0,
  "metadata": {
    "colab": {
      "provenance": [],
      "machine_shape": "hm",
      "include_colab_link": true
    },
    "kernelspec": {
      "name": "python3",
      "display_name": "Python 3"
    }
  },
  "cells": [
    {
      "cell_type": "markdown",
      "metadata": {
        "id": "view-in-github",
        "colab_type": "text"
      },
      "source": [
        "<a href=\"https://colab.research.google.com/github/jai-sundaram/Jais-Stock-Market-Tracker/blob/main/my_decision_tree_classification.ipynb\" target=\"_parent\"><img src=\"https://colab.research.google.com/assets/colab-badge.svg\" alt=\"Open In Colab\"/></a>"
      ]
    },
    {
      "cell_type": "markdown",
      "metadata": {
        "id": "0MRC0e0KhQ0S"
      },
      "source": [
        "# Decision Tree Classification"
      ]
    },
    {
      "cell_type": "code",
      "source": [
        "#CART - Classification & Regression Trees\n",
        "#Classification Trees help classify data and work with categorical data\n",
        "#male, female, different types of colors etc\n",
        "#a decision tree cuts up a scatterplot into various different splits\n",
        "#splits will be at different values of x1 (x) and x2 (y)\n",
        "#these splits are done in such a way to maximize the number of a certain category in each of these splits\n",
        "#this is the simplest way to explain it\n",
        "#attempts to minimize entropy\n",
        "#each new split is called a leave - the splits left at the end are called terminal leaves\n",
        "#can actually construct a real decision tree diagram as we are spllitting the graph\n",
        "#for example, if it x1=60, in the clause if it is greater than 60 it will fall into one branch, if it  is less than 60 it will fall into another branch\n",
        "#as you make more splits, dependening on the case it would create a new branch under a certain clause\n",
        "#in each split, every point there will be classified as a certain thing, lets say colors, and in this case either green or red\n",
        "#to see what a certain point would be classified as, you could go through the decision tree diagram and see where it would land, and classify it based off of that\n",
        "#otherwise, if u don't way to go all the way through the tree and end up in a split that has two sections of two different colors, you could just calculate the likelihood of it being a certain color using probability\n",
        "#you could have a multidimensional dataset, with a various different variables"
      ],
      "metadata": {
        "id": "rt2cI9fuX5RX"
      },
      "execution_count": null,
      "outputs": []
    },
    {
      "cell_type": "markdown",
      "metadata": {
        "id": "LWd1UlMnhT2s"
      },
      "source": [
        "## Importing the libraries"
      ]
    },
    {
      "cell_type": "markdown",
      "metadata": {
        "id": "K1VMqkGvhc3-"
      },
      "source": [
        "## Importing the dataset"
      ]
    },
    {
      "cell_type": "markdown",
      "metadata": {
        "id": "YvxIPVyMhmKp"
      },
      "source": [
        "## Splitting the dataset into the Training set and Test set"
      ]
    },
    {
      "cell_type": "markdown",
      "metadata": {
        "id": "kW3c7UYih0hT"
      },
      "source": [
        "## Feature Scaling"
      ]
    },
    {
      "cell_type": "markdown",
      "metadata": {
        "id": "bb6jCOCQiAmP"
      },
      "source": [
        "## Training the Decision Tree Classification model on the Training set"
      ]
    },
    {
      "cell_type": "markdown",
      "metadata": {
        "id": "yyxW5b395mR2"
      },
      "source": [
        "## Predicting a new result"
      ]
    },
    {
      "cell_type": "markdown",
      "metadata": {
        "id": "vKYVQH-l5NpE"
      },
      "source": [
        "## Predicting the Test set results"
      ]
    },
    {
      "cell_type": "markdown",
      "metadata": {
        "id": "h4Hwj34ziWQW"
      },
      "source": [
        "## Making the Confusion Matrix"
      ]
    },
    {
      "cell_type": "markdown",
      "metadata": {
        "id": "6OMC_P0diaoD"
      },
      "source": [
        "## Visualising the Training set results"
      ]
    },
    {
      "cell_type": "markdown",
      "metadata": {
        "id": "SZ-j28aPihZx"
      },
      "source": [
        "## Visualising the Test set results"
      ]
    }
  ]
}